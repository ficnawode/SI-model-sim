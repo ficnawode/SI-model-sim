{
 "cells": [
  {
   "cell_type": "code",
   "execution_count": 1,
   "metadata": {},
   "outputs": [],
   "source": [
    "from __future__ import annotations\n",
    "import numpy as np\n",
    "import random\n",
    "\n",
    "from matplotlib import pyplot as plt"
   ]
  },
  {
   "cell_type": "code",
   "execution_count": 2,
   "metadata": {},
   "outputs": [],
   "source": [
    "class Node:\n",
    "    def __init__(self, id: int, infected: bool = False):\n",
    "        self.id = id\n",
    "        self.infected = infected\n",
    "        self.neighbors = []\n",
    "\n",
    "    def add_neighbor(self, neighbor: Node):\n",
    "        self.neighbors.append(neighbor)\n",
    "\n",
    "class Edge:\n",
    "    def __init__(self, start_node, end_node):\n",
    "        self.start_node = start_node\n",
    "        self.end_node = end_node\n",
    "\n",
    "class Graph:\n",
    "    def __init__(self, size):\n",
    "        self.size = size\n",
    "        self.nodes = [Node(i, False) for i in range(self.size)]\n",
    "        self.edges = []\n",
    "\n",
    "    def tick(self):\n",
    "        pass\n",
    "                    \n",
    "\n",
    "    def create_edge(self, node_id1, node_id2):\n",
    "        assert(node_id1 < self.size and node_id2 < self.size)\n",
    "        if not node_id1 in self.nodes[node_id2].neighbors:\n",
    "            self.edges.append(Edge(self.nodes[node_id1], self.nodes[node_id2]))\n",
    "            self.nodes[node_id1].add_neighbor(self.nodes[node_id2])\n",
    "            self.nodes[node_id2].add_neighbor(self.nodes[node_id1])\n",
    "    \n",
    "class SIModel(Graph):\n",
    "    def __init__(self, size, infection_prob):\n",
    "        super().__init__(size)\n",
    "        self.infection_prob = infection_prob\n",
    "        self.amount_of_infected = 0\n",
    "\n",
    "\n",
    "    def tick(self):\n",
    "        node_indices = list(range(len(self.nodes)))\n",
    "        random.shuffle(node_indices)\n",
    "        randomized_nodes = [self.nodes[r] for r in node_indices]\n",
    "        for node in randomized_nodes:\n",
    "            if node.infected:\n",
    "                for neighbor in node.neighbors:\n",
    "                    should_be_infected = np.random.random() < self.infection_prob\n",
    "                    if (not neighbor.infected) and should_be_infected:\n",
    "                        self.amount_of_infected += 1\n",
    "                        neighbor.infected = True\n",
    "\n",
    "    def infect_node(self, node_id : int):\n",
    "        self.amount_of_infected += 1\n",
    "        self.nodes[node_id].infected = True\n",
    "\n",
    "def create_erdos_graph(size, prob_of_connection, prob_of_infection):\n",
    "    g = SIModel(size, prob_of_infection)\n",
    "\n",
    "    for i in range(g.size):\n",
    "        for j in range(g.size):\n",
    "            if i == j:\n",
    "                continue\n",
    "            else:\n",
    "                should_be_connected = np.random.random() < prob_of_connection\n",
    "                if should_be_connected:\n",
    "                    g.create_edge(i,j)\n",
    "    \n",
    "    return g\n"
   ]
  },
  {
   "cell_type": "code",
   "execution_count": 3,
   "metadata": {},
   "outputs": [
    {
     "data": {
      "image/png": "[encoded data removed]",
      "text/plain": [
       "<Figure size 576x432 with 1 Axes>"
      ]
     },
     "metadata": {
      "needs_background": "light"
     },
     "output_type": "display_data"
    }
   ],
   "source": [
    "#create an erdos graph\n",
    "g = create_erdos_graph(1000, 0.1, 0.001)\n",
    "#infect node 0\n",
    "g.nodes[0].infected = True\n",
    "\n",
    "#gather data\n",
    "tick_numbers = []\n",
    "infected_at_tick = []\n",
    "\n",
    "#watch chaos unfold\n",
    "for i in range(100):\n",
    "    g.tick()\n",
    "    tick_numbers.append(i)\n",
    "    infected_at_tick.append(g.amount_of_infected)    \n",
    "\n",
    "#plot the sucker\n",
    "plt.figure(figsize = (8,6))\n",
    "plt.plot(tick_numbers, infected_at_tick)\n",
    "plt.xlabel('ticks')\n",
    "plt.ylabel('number of infected nodes')\n",
    "plt.show()"
   ]
  },
  {
   "cell_type": "code",
   "execution_count": null,
   "metadata": {},
   "outputs": [],
   "source": []
  },
  {
   "cell_type": "code",
   "execution_count": null,
   "metadata": {},
   "outputs": [],
   "source": []
  }
 ],
 "metadata": {
  "kernelspec": {
   "display_name": "dataconda",
   "language": "python",
   "name": "python3"
  },
  "language_info": {
   "codemirror_mode": {
    "name": "ipython",
    "version": 3
   },
   "file_extension": ".py",
   "mimetype": "text/x-python",
   "name": "python",
   "nbconvert_exporter": "python",
   "pygments_lexer": "ipython3",
   "version": "3.10.4"
  },
  "orig_nbformat": 4,
  "vscode": {
   "interpreter": {
    "hash": "06d5f6a7192f7da15f00af0bef5004458982aa75eb1affdf296843002ced5906"
   }
  }
 },
 "nbformat": 4,
 "nbformat_minor": 2
}
